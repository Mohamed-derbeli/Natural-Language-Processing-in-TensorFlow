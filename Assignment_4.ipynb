{
  "nbformat": 4,
  "nbformat_minor": 0,
  "metadata": {
    "accelerator": "GPU",
    "colab": {
      "name": "Assignment_4.ipynb",
      "provenance": [],
      "toc_visible": true,
      "include_colab_link": true
    },
    "kernelspec": {
      "display_name": "Python 3",
      "language": "python",
      "name": "python3"
    },
    "language_info": {
      "codemirror_mode": {
        "name": "ipython",
        "version": 3
      },
      "file_extension": ".py",
      "mimetype": "text/x-python",
      "name": "python",
      "nbconvert_exporter": "python",
      "pygments_lexer": "ipython3",
      "version": "3.8.5"
    }
  },
  "cells": [
    {
      "cell_type": "markdown",
      "metadata": {
        "id": "view-in-github",
        "colab_type": "text"
      },
      "source": [
        "<a href=\"https://colab.research.google.com/github/Mohamed-derbeli/Natural-Language-Processing-in-TensorFlow/blob/main/Assignment_4.ipynb\" target=\"_parent\"><img src=\"https://colab.research.google.com/assets/colab-badge.svg\" alt=\"Open In Colab\"/></a>"
      ]
    },
    {
      "cell_type": "code",
      "metadata": {
        "id": "T2XpcPvbXalN"
      },
      "source": [
        "#@title Licensed under the Apache License, Version 2.0 (the \"License\");\n",
        "# you may not use this file except in compliance with the License.\n",
        "# You may obtain a copy of the License at\n",
        "#\n",
        "# https://www.apache.org/licenses/LICENSE-2.0\n",
        "#\n",
        "# Unless required by applicable law or agreed to in writing, software\n",
        "# distributed under the License is distributed on an \"AS IS\" BASIS,\n",
        "# WITHOUT WARRANTIES OR CONDITIONS OF ANY KIND, either express or implied.\n",
        "# See the License for the specific language governing permissions and\n",
        "# limitations under the License."
      ],
      "execution_count": 3,
      "outputs": []
    },
    {
      "cell_type": "markdown",
      "metadata": {
        "id": "eK88h3Y5XalO"
      },
      "source": [
        "**Note:** This notebook can run using TensorFlow 2.5.0"
      ]
    },
    {
      "cell_type": "code",
      "metadata": {
        "id": "zX4Kg8DUTKWO"
      },
      "source": [
        "#!pip install tensorflow==2.5.0"
      ],
      "execution_count": 4,
      "outputs": []
    },
    {
      "cell_type": "code",
      "metadata": {
        "id": "BOwsuGQQY9OL"
      },
      "source": [
        "from tensorflow.keras.preprocessing.sequence import pad_sequences\n",
        "from tensorflow.keras.layers import Embedding, LSTM, Dense, Dropout, Bidirectional\n",
        "from tensorflow.keras.preprocessing.text import Tokenizer\n",
        "from tensorflow.keras.models import Sequential\n",
        "from tensorflow.keras.optimizers import Adam\n",
        "### YOUR CODE HERE\n",
        "# Figure out how to import regularizers\n",
        "from tensorflow.keras import regularizers\n",
        "###\n",
        "import tensorflow.keras.utils as ku \n",
        "import numpy as np "
      ],
      "execution_count": 5,
      "outputs": []
    },
    {
      "cell_type": "code",
      "metadata": {
        "id": "PRnDnCW-Z7qv",
        "colab": {
          "base_uri": "https://localhost:8080/"
        },
        "outputId": "32d58513-ee50-4003-9ba4-147573bf6a49"
      },
      "source": [
        "tokenizer = Tokenizer()\n",
        "\n",
        "# sonnets.txt\n",
        "!gdown --id 108jAePKK4R3BVYBbYJZ32JWUwxeMg20K\n",
        "\n",
        "data = open('./sonnets.txt').read()\n",
        "\n",
        "corpus = data.lower().split(\"\\n\")\n",
        "\n",
        "\n",
        "tokenizer.fit_on_texts(corpus)\n",
        "total_words = len(tokenizer.word_index) + 1\n",
        "\n",
        "# create input sequences using list of tokens\n",
        "input_sequences = []\n",
        "for line in corpus:\n",
        "\ttoken_list = tokenizer.texts_to_sequences([line])[0]\n",
        "\tfor i in range(1, len(token_list)):\n",
        "\t\tn_gram_sequence = token_list[:i+1]\n",
        "\t\tinput_sequences.append(n_gram_sequence)\n",
        "\n",
        "\n",
        "# pad sequences \n",
        "max_sequence_len = max([len(x) for x in input_sequences])\n",
        "input_sequences = np.array(pad_sequences(input_sequences, maxlen=max_sequence_len, padding='pre'))\n",
        "\n",
        "# create predictors and label\n",
        "predictors, label = input_sequences[:,:-1],input_sequences[:,-1]\n",
        "\n",
        "label = ku.to_categorical(label, num_classes=total_words)"
      ],
      "execution_count": 6,
      "outputs": [
        {
          "output_type": "stream",
          "name": "stdout",
          "text": [
            "Downloading...\n",
            "From: https://drive.google.com/uc?id=108jAePKK4R3BVYBbYJZ32JWUwxeMg20K\n",
            "To: /content/sonnets.txt\n",
            "\r  0% 0.00/93.6k [00:00<?, ?B/s]\r100% 93.6k/93.6k [00:00<00:00, 34.4MB/s]\n"
          ]
        }
      ]
    },
    {
      "cell_type": "code",
      "metadata": {
        "id": "w9vH8Y59ajYL",
        "colab": {
          "base_uri": "https://localhost:8080/"
        },
        "outputId": "f738c2a0-85d8-46d3-c0ac-572c843463fa"
      },
      "source": [
        "### START CODE HERE\n",
        "model = Sequential()\n",
        "model.add(Embedding(total_words, 100, input_length=max_sequence_len-1)) # Your Embedding Layer)\n",
        "model.add(Bidirectional(LSTM(50, return_sequences = True)))            # An LSTM Layer)\n",
        "model.add(Dropout(0.2))                                                # A dropout layer)\n",
        "model.add(Bidirectional(LSTM(50)))                                     # Another LSTM Layer)\n",
        "model.add(Dense(total_words/2, activation='relu', kernel_regularizer=regularizers.l2(0.01)))      # A Dense Layer including regularizers)\n",
        "model.add(Dense(total_words, activation='softmax'))                    # A Dense Layer)\n",
        "# Pick an optimizer\n",
        "model.compile(loss='categorical_crossentropy', optimizer='adam', metrics=['accuracy'])# Pick a loss function and an optimizer)\n",
        "### END CODE HERE\n",
        "    \n",
        "print(model.summary())\n",
        "\n",
        "#----------regularization----------- \n",
        "\n",
        "#Regularization help reduce Overfitting\n",
        "# Regularization is a technique which makes slight modifications to the learning algorithm such that the model generalizes better. This in turn \n",
        "#improves the model’s performance on the unseen data as well. Regularization penalizes the coefficients. it actually penalizes the weight matrices \n",
        "#of the nodes.Regularization coefficient is so high -----> some of the weight matrices are nearly equal to zero----> result in a much simpler \n",
        "#linear network and slight underfitting of the training data.\n",
        "\n",
        "#  Regularization Techniques in Deep Learning: \n",
        "# L2 & L1 regularization: L1 and L2 are the most common types of regularization. These update the general cost function by adding another term known\n",
        "                        # as the regularization term. ''Cost function = Loss (say, binary cross entropy) + Regularization term''\n",
        "                        #Due to the addition of this regularization term, the values of weight matrices decrease because it assumes that a neural \n",
        "                        #network with smaller weight matrices leads to simpler models. Therefore, it will also reduce overfitting to quite an extent. \n",
        "# Dropout: At every iteration, it randomly selects some nodes and removes them along with all of their incoming and outgoing connections as shown below. \n",
        "# Data Augmentation: Data Augmentation The simplest way to reduce overfitting is to increase the size of the training data. In machine learning, we  \n",
        "                  # were not able to increase the size of training data as the labeled data was too costly. But, now let’s consider we are dealing \n",
        "                  # with images. In this case, there are a few ways of increasing the size of the training data – rotating the image, flipping, scaling,\n",
        "                  #  shifting, etc. In the below image, some transformation has been done on the handwritten digits dataset.                 \n",
        "                  # This technique is known as data augmentation. This usually provides a big leap in improving the accuracy of the model. It can be \n",
        "                  # considered as a mandatory trick in order to improve our predictions.\n",
        "                  # In keras, we can perform all of these transformations using ImageDataGenerator. It has a big list of arguments which you you can \n",
        "                  # use to pre-process your training data. \n",
        "# Early stopping: Early stopping is a kind of cross-validation strategy where we keep one part of the training set as the validation set. When we \n",
        "                  # see that the performance on the validation set is getting worse, we immediately stop the training on the model. This is known \n",
        "                  #as early stopping. In keras, we can apply early stopping using the callbacks function. Below is the sample code for it.\n",
        "                  # from keras.callbacks import EarlyStopping\n",
        "                  # EarlyStopping(monitor='val_err', patience=5)\n",
        "                  # Here, monitor denotes the quantity that needs to be monitored and ‘val_err’ denotes the validation error.\n",
        "                  # Patience denotes the number of epochs with no further improvement after which the training will be stopped"
      ],
      "execution_count": 11,
      "outputs": [
        {
          "output_type": "stream",
          "name": "stdout",
          "text": [
            "Model: \"sequential_1\"\n",
            "_________________________________________________________________\n",
            " Layer (type)                Output Shape              Param #   \n",
            "=================================================================\n",
            " embedding_1 (Embedding)     (None, 10, 100)           321100    \n",
            "                                                                 \n",
            " bidirectional_2 (Bidirectio  (None, 10, 100)          60400     \n",
            " nal)                                                            \n",
            "                                                                 \n",
            " dropout_1 (Dropout)         (None, 10, 100)           0         \n",
            "                                                                 \n",
            " bidirectional_3 (Bidirectio  (None, 100)              60400     \n",
            " nal)                                                            \n",
            "                                                                 \n",
            " dense_2 (Dense)             (None, 1605)              162105    \n",
            "                                                                 \n",
            " dense_3 (Dense)             (None, 3211)              5156866   \n",
            "                                                                 \n",
            "=================================================================\n",
            "Total params: 5,760,871\n",
            "Trainable params: 5,760,871\n",
            "Non-trainable params: 0\n",
            "_________________________________________________________________\n",
            "None\n"
          ]
        }
      ]
    },
    {
      "cell_type": "code",
      "metadata": {
        "id": "AIg2f1HBxqof"
      },
      "source": [
        " history = model.fit(predictors, label, epochs=100, verbose=0)# epochs=100"
      ],
      "execution_count": 16,
      "outputs": []
    },
    {
      "cell_type": "code",
      "metadata": {
        "id": "1fXTEO3GJ282",
        "colab": {
          "base_uri": "https://localhost:8080/",
          "height": 545
        },
        "outputId": "d75ea10b-0b42-4708-b415-cd3a20538ee2"
      },
      "source": [
        "import matplotlib.pyplot as plt\n",
        "acc = history.history['accuracy']\n",
        "loss = history.history['loss']\n",
        "\n",
        "epochs = range(len(acc))\n",
        "\n",
        "plt.plot(epochs, acc, 'b', label='Training accuracy')\n",
        "plt.title('Training accuracy')\n",
        "\n",
        "plt.figure()\n",
        "\n",
        "plt.plot(epochs, loss, 'b', label='Training Loss')\n",
        "plt.title('Training loss')\n",
        "plt.legend()\n",
        "\n",
        "plt.show()"
      ],
      "execution_count": 17,
      "outputs": [
        {
          "output_type": "display_data",
          "data": {
            "image/png": "[encoded data removed]",
            "text/plain": [
              "<Figure size 432x288 with 1 Axes>"
            ]
          },
          "metadata": {
            "needs_background": "light"
          }
        },
        {
          "output_type": "display_data",
          "data": {
            "image/png": "[encoded data removed]",
            "text/plain": [
              "<Figure size 432x288 with 1 Axes>"
            ]
          },
          "metadata": {
            "needs_background": "light"
          }
        }
      ]
    },
    {
      "cell_type": "code",
      "metadata": {
        "id": "6Vc6PHgxa6Hm",
        "colab": {
          "base_uri": "https://localhost:8080/"
        },
        "outputId": "95e94ba7-6262-4001-a1d6-a575077e2e6d"
      },
      "source": [
        "seed_text = \"Help me Obi Wan Kenobi, you're my only hope\"\n",
        "next_words = 100\n",
        "  \n",
        "for _ in range(next_words):\n",
        "\ttoken_list = tokenizer.texts_to_sequences([seed_text])[0]\n",
        "\ttoken_list = pad_sequences([token_list], maxlen=max_sequence_len-1, padding='pre')\n",
        "\t# predicted = model.predict_classes(token_list, verbose=0)\n",
        "\tpredict_x=model.predict(token_list) \n",
        "\tpredicted=np.argmax(predict_x,axis=1)\n",
        "\toutput_word = \"\"\n",
        "\tfor word, index in tokenizer.word_index.items():\n",
        "\t\tif index == predicted:\n",
        "\t\t\toutput_word = word\n",
        "\t\t\tbreak\n",
        "\tseed_text += \" \" + output_word\n",
        "print(seed_text)"
      ],
      "execution_count": 18,
      "outputs": [
        {
          "output_type": "stream",
          "name": "stdout",
          "text": [
            "Help me Obi Wan Kenobi, you're my only hope of such deep key must be none dear know it not grace some worth false before make another mother taken be trim glory so stand me kind and not blind best or grace keep her living age doth decay show dead wrong or store sweet lie down her me did show me great under me wrong arising days prove dead blot me go store new hours her age ' be ' change ' prove to pleasure none desire give dead blot myself be lease days days days did swear so you i do not engraft me show thee such pride\n"
          ]
        }
      ]
    }
  ]
}